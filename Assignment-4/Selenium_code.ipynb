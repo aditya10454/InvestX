{
 "cells": [
  {
   "cell_type": "code",
   "execution_count": 36,
   "id": "1e5a51c5",
   "metadata": {},
   "outputs": [],
   "source": [
    "import time\n",
    "import csv\n",
    "from selenium import webdriver\n",
    "from selenium.webdriver.common.by import By\n",
    "from selenium.webdriver.support.ui import WebDriverWait"
   ]
  },
  {
   "cell_type": "code",
   "execution_count": 47,
   "id": "b7f15b81",
   "metadata": {},
   "outputs": [
    {
     "name": "stdout",
     "output_type": "stream",
     "text": [
      "Data saved to 26DEC2024.csv.\n"
     ]
    }
   ],
   "source": [
    "driver = webdriver.Chrome()\n",
    "driver.maximize_window()\n",
    "driver.get(\"https://opstra.definedge.com/\")\n",
    "wait = WebDriverWait(driver, 5)\n",
    "sign_btn = driver.find_element(by=By.CSS_SELECTOR,value=\".v-toolbar__content .hidden-xs-only:nth-child(5) .v-btn__content\")\n",
    "sign_btn.click()\n",
    "uname = driver.find_element(by=By.ID, value=\"username\")\n",
    "uname.send_keys(\"aditya10454@gmail.com\")\n",
    "password = driver.find_element(by=By.ID, value=\"password\")\n",
    "password.send_keys(\"Micro@123\")\n",
    "time.sleep(5)\n",
    "login = driver.find_element(by=By.ID, value=\"kc-login\")\n",
    "login.click()\n",
    "Cnt_with_login= driver.find_element(by=By.CSS_SELECTOR,value=\"[class='text-none mt-3 v-btn v-btn--large v-btn--outline v-btn--depressed v-btn--round v-btn--router theme--light white--text'] .v-btn__content\")\n",
    "Cnt_with_login.click()\n",
    "time.sleep(5)\n",
    "Option = driver.find_element(by=By.CSS_SELECTOR,value=\".v-expansion-panel__header .text-xs-center\")\n",
    "Option.click()\n",
    "#Changing type from 1-10 get different dates csv\n",
    "Next_Bttn = driver.find_element(by=By.CSS_SELECTOR,value='.md1:nth-of-type(10) .v-btn__content')\n",
    "Next_Bttn.click()\n",
    "table_element = driver.find_element(by=By.CSS_SELECTOR,value='table')\n",
    "table_html = table_element.get_attribute('outerHTML')\n",
    "from bs4 import BeautifulSoup\n",
    "\n",
    "soup = BeautifulSoup(table_html, 'html.parser')\n",
    "data_list = []\n",
    "\n",
    "# Find all table rows (tr elements) in the table\n",
    "rows = soup.find_all('tr')\n",
    "\n",
    "for row in rows:\n",
    "    # Find all cells (td elements) in each row\n",
    "    cells = row.find_all(['td', 'th'])\n",
    "\n",
    "    # Extract data from each cell and add it to the data_list as a row\n",
    "    row_data = [cell.get_text(strip=True) for cell in cells]\n",
    "    data_list.append(row_data)\n",
    "\n",
    "# Save the data_list to a CSV file\n",
    "csv_file_path = '26DEC2024.csv'\n",
    "with open(csv_file_path, 'w', newline='') as csvfile:\n",
    "    csv_writer = csv.writer(csvfile)\n",
    "    csv_writer.writerows(data_list)\n",
    "\n",
    "print(f\"Data saved to {csv_file_path}.\")\n"
   ]
  }
 ],
 "metadata": {
  "kernelspec": {
   "display_name": "Python 3 (ipykernel)",
   "language": "python",
   "name": "python3"
  },
  "language_info": {
   "codemirror_mode": {
    "name": "ipython",
    "version": 3
   },
   "file_extension": ".py",
   "mimetype": "text/x-python",
   "name": "python",
   "nbconvert_exporter": "python",
   "pygments_lexer": "ipython3",
   "version": "3.11.4"
  }
 },
 "nbformat": 4,
 "nbformat_minor": 5
}
